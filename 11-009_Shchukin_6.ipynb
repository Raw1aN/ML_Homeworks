{
  "cells": [
    {
      "cell_type": "markdown",
      "metadata": {
        "id": "TTaoI3YZsxqf"
      },
      "source": [
        "[Набор](https://archive.ics.uci.edu/dataset/2/adult) данных UCI Adult (качать не надо, все есть в репозитории): классификация людей с помощью демографических данных для прогнозирования, зарабатывает ли человек более \\$ 50 000 в год.\n",
        "\n",
        "Описание признаков:\n",
        "\n",
        "**Age** – возраст, количественный признак  \n",
        "**Workclass** – тип работодателя, количественный признак  \n",
        "**fnlwgt** – итоговый вес обьекта, количественный признак    \n",
        "**Education** – уровень образования, качественный признак  \n",
        "**Education_Num** – количество лет обучения, количественный признак  \n",
        "**Martial_Status** – семейное положение, категориальный признак  \n",
        "**Occupation** – профессия, категориальный признак  \n",
        "**Relationship** – тип семейных отношений, категориальный признак    \n",
        "**Race** – раса, категориальный признак  \n",
        "**Sex** – пол, качественный признак  \n",
        "**Capital_Gain** – прирост капитала, количественный признак  \n",
        "**Capital_Loss** – потери капитала, количественный признак  \n",
        "**Hours_per_week** – количество часов работы в неделю, количественный признак  \n",
        "**Country** – страна, категориальный признак  \n",
        "   \n",
        "Целевая переменная: **Target** – уровень заработка, категориальный (бинарный) признак"
      ]
    },
    {
      "cell_type": "markdown",
      "metadata": {
        "id": "CKf2mtAgvrku"
      },
      "source": [
        "1. Выполнить разведочный анализ данных, заполнить пропуски, преобразовать категориальные данные в числовые:\n",
        "    - Кодируем категориальные признаки 'Workclass', 'Education', 'Martial_Status', 'Occupation', 'Relationship', 'Race', 'Sex', 'Country'. Это можно сделать с помощью метода pandas get_dummies.\n",
        "    \n",
        "2. В тестовой выборке не оказалось Голландии. Завести необходимый признак из нулей.\n",
        "\n",
        "3. Обучить LogisticRegression(). Использовать в качестве baseline.\n",
        "4. Обучить k-NN, SVC, Naive Bayes, DecisionTree, RandomForest\n",
        "5. Обучить SVC с такими параметрами {'classifier__gamma':[0.001, 0.01, 0.1, 1, 10, 100], 'classifier__C': [0.001, 0.01, 0.1, 1, 10, 100]}\n",
        "6. Обучить DecisionTreeClassifier c параметрами tree_params = {'max_depth': range(2,11)}\n",
        "7. Обучить RandomForestClassifier c параметрами forest_params = {'max_depth': range(10, 21), 'max_features': range(5, 105, 10)}\n",
        "8. Использовать кроссвалидацию и GridSearchCV.\n",
        "9. Сравнить все модели с baseline\n",
        "10. Вывести confusion matrix\n"
      ]
    },
    {
      "cell_type": "code",
      "execution_count": 6,
      "metadata": {
        "id": "S_M1jM3ivw7q"
      },
      "outputs": [],
      "source": [
        "import pandas as pd\n",
        "import numpy as np\n",
        "from sklearn.experimental import enable_halving_search_cv\n",
        "from sklearn.model_selection import train_test_split, GridSearchCV, cross_val_score, HalvingGridSearchCV, GridSearchCV\n",
        "from sklearn.preprocessing import StandardScaler, LabelEncoder, OneHotEncoder\n",
        "from sklearn.linear_model import LogisticRegression\n",
        "from sklearn.neighbors import KNeighborsClassifier\n",
        "from sklearn.svm import SVC\n",
        "from sklearn.naive_bayes import GaussianNB\n",
        "from sklearn.tree import DecisionTreeClassifier\n",
        "from sklearn.ensemble import RandomForestClassifier\n",
        "from sklearn.metrics import confusion_matrix"
      ]
    },
    {
      "cell_type": "code",
      "execution_count": 7,
      "metadata": {
        "id": "MIffKA8gvzbG"
      },
      "outputs": [],
      "source": [
        "# Загрузка данных\n",
        "url = \"https://archive.ics.uci.edu/ml/machine-learning-databases/adult/adult.data\"\n",
        "column_names = [\"Age\", \"Workclass\", \"fnlwgt\", \"Education\", \"Education_Num\", \"Martial_Status\", \"Occupation\", \"Relationship\", \"Race\", \"Sex\", \"Capital_Gain\", \"Capital_Loss\", \"Hours_per_week\", \"Country\", \"Target\"]\n",
        "data = pd.read_csv(url, names=column_names, sep=',\\s*', engine='python')"
      ]
    },
    {
      "cell_type": "code",
      "execution_count": 8,
      "metadata": {
        "colab": {
          "base_uri": "https://localhost:8080/",
          "height": 461
        },
        "id": "NIM8aAVlwSOd",
        "outputId": "9c00d01b-1105-44ae-c5bc-2ade65c93b7c"
      },
      "outputs": [
        {
          "output_type": "execute_result",
          "data": {
            "text/plain": [
              "       Age  fnlwgt  Education_Num  Capital_Gain  Capital_Loss  Hours_per_week  \\\n",
              "0       39   77516             13          2174             0              40   \n",
              "1       50   83311             13             0             0              13   \n",
              "2       38  215646              9             0             0              40   \n",
              "3       53  234721              7             0             0              40   \n",
              "4       28  338409             13             0             0              40   \n",
              "...    ...     ...            ...           ...           ...             ...   \n",
              "32556   27  257302             12             0             0              38   \n",
              "32557   40  154374              9             0             0              40   \n",
              "32558   58  151910              9             0             0              40   \n",
              "32559   22  201490              9             0             0              20   \n",
              "32560   52  287927              9         15024             0              40   \n",
              "\n",
              "      Target  Workclass_?  Workclass_Federal-gov  Workclass_Local-gov  ...  \\\n",
              "0      <=50K        False                  False                False  ...   \n",
              "1      <=50K        False                  False                False  ...   \n",
              "2      <=50K        False                  False                False  ...   \n",
              "3      <=50K        False                  False                False  ...   \n",
              "4      <=50K        False                  False                False  ...   \n",
              "...      ...          ...                    ...                  ...  ...   \n",
              "32556  <=50K        False                  False                False  ...   \n",
              "32557   >50K        False                  False                False  ...   \n",
              "32558  <=50K        False                  False                False  ...   \n",
              "32559  <=50K        False                  False                False  ...   \n",
              "32560   >50K        False                  False                False  ...   \n",
              "\n",
              "       Country_Portugal  Country_Puerto-Rico  Country_Scotland  Country_South  \\\n",
              "0                 False                False             False          False   \n",
              "1                 False                False             False          False   \n",
              "2                 False                False             False          False   \n",
              "3                 False                False             False          False   \n",
              "4                 False                False             False          False   \n",
              "...                 ...                  ...               ...            ...   \n",
              "32556             False                False             False          False   \n",
              "32557             False                False             False          False   \n",
              "32558             False                False             False          False   \n",
              "32559             False                False             False          False   \n",
              "32560             False                False             False          False   \n",
              "\n",
              "       Country_Taiwan  Country_Thailand  Country_Trinadad&Tobago  \\\n",
              "0               False             False                    False   \n",
              "1               False             False                    False   \n",
              "2               False             False                    False   \n",
              "3               False             False                    False   \n",
              "4               False             False                    False   \n",
              "...               ...               ...                      ...   \n",
              "32556           False             False                    False   \n",
              "32557           False             False                    False   \n",
              "32558           False             False                    False   \n",
              "32559           False             False                    False   \n",
              "32560           False             False                    False   \n",
              "\n",
              "       Country_United-States  Country_Vietnam  Country_Yugoslavia  \n",
              "0                       True            False               False  \n",
              "1                       True            False               False  \n",
              "2                       True            False               False  \n",
              "3                       True            False               False  \n",
              "4                      False            False               False  \n",
              "...                      ...              ...                 ...  \n",
              "32556                   True            False               False  \n",
              "32557                   True            False               False  \n",
              "32558                   True            False               False  \n",
              "32559                   True            False               False  \n",
              "32560                   True            False               False  \n",
              "\n",
              "[32561 rows x 109 columns]"
            ],
            "text/html": [
              "<div>\n",
              "<style scoped>\n",
              "    .dataframe tbody tr th:only-of-type {\n",
              "        vertical-align: middle;\n",
              "    }\n",
              "\n",
              "    .dataframe tbody tr th {\n",
              "        vertical-align: top;\n",
              "    }\n",
              "\n",
              "    .dataframe thead th {\n",
              "        text-align: right;\n",
              "    }\n",
              "</style>\n",
              "<table border=\"1\" class=\"dataframe\">\n",
              "  <thead>\n",
              "    <tr style=\"text-align: right;\">\n",
              "      <th></th>\n",
              "      <th>Age</th>\n",
              "      <th>fnlwgt</th>\n",
              "      <th>Education_Num</th>\n",
              "      <th>Capital_Gain</th>\n",
              "      <th>Capital_Loss</th>\n",
              "      <th>Hours_per_week</th>\n",
              "      <th>Target</th>\n",
              "      <th>Workclass_?</th>\n",
              "      <th>Workclass_Federal-gov</th>\n",
              "      <th>Workclass_Local-gov</th>\n",
              "      <th>...</th>\n",
              "      <th>Country_Portugal</th>\n",
              "      <th>Country_Puerto-Rico</th>\n",
              "      <th>Country_Scotland</th>\n",
              "      <th>Country_South</th>\n",
              "      <th>Country_Taiwan</th>\n",
              "      <th>Country_Thailand</th>\n",
              "      <th>Country_Trinadad&amp;Tobago</th>\n",
              "      <th>Country_United-States</th>\n",
              "      <th>Country_Vietnam</th>\n",
              "      <th>Country_Yugoslavia</th>\n",
              "    </tr>\n",
              "  </thead>\n",
              "  <tbody>\n",
              "    <tr>\n",
              "      <th>0</th>\n",
              "      <td>39</td>\n",
              "      <td>77516</td>\n",
              "      <td>13</td>\n",
              "      <td>2174</td>\n",
              "      <td>0</td>\n",
              "      <td>40</td>\n",
              "      <td>&lt;=50K</td>\n",
              "      <td>False</td>\n",
              "      <td>False</td>\n",
              "      <td>False</td>\n",
              "      <td>...</td>\n",
              "      <td>False</td>\n",
              "      <td>False</td>\n",
              "      <td>False</td>\n",
              "      <td>False</td>\n",
              "      <td>False</td>\n",
              "      <td>False</td>\n",
              "      <td>False</td>\n",
              "      <td>True</td>\n",
              "      <td>False</td>\n",
              "      <td>False</td>\n",
              "    </tr>\n",
              "    <tr>\n",
              "      <th>1</th>\n",
              "      <td>50</td>\n",
              "      <td>83311</td>\n",
              "      <td>13</td>\n",
              "      <td>0</td>\n",
              "      <td>0</td>\n",
              "      <td>13</td>\n",
              "      <td>&lt;=50K</td>\n",
              "      <td>False</td>\n",
              "      <td>False</td>\n",
              "      <td>False</td>\n",
              "      <td>...</td>\n",
              "      <td>False</td>\n",
              "      <td>False</td>\n",
              "      <td>False</td>\n",
              "      <td>False</td>\n",
              "      <td>False</td>\n",
              "      <td>False</td>\n",
              "      <td>False</td>\n",
              "      <td>True</td>\n",
              "      <td>False</td>\n",
              "      <td>False</td>\n",
              "    </tr>\n",
              "    <tr>\n",
              "      <th>2</th>\n",
              "      <td>38</td>\n",
              "      <td>215646</td>\n",
              "      <td>9</td>\n",
              "      <td>0</td>\n",
              "      <td>0</td>\n",
              "      <td>40</td>\n",
              "      <td>&lt;=50K</td>\n",
              "      <td>False</td>\n",
              "      <td>False</td>\n",
              "      <td>False</td>\n",
              "      <td>...</td>\n",
              "      <td>False</td>\n",
              "      <td>False</td>\n",
              "      <td>False</td>\n",
              "      <td>False</td>\n",
              "      <td>False</td>\n",
              "      <td>False</td>\n",
              "      <td>False</td>\n",
              "      <td>True</td>\n",
              "      <td>False</td>\n",
              "      <td>False</td>\n",
              "    </tr>\n",
              "    <tr>\n",
              "      <th>3</th>\n",
              "      <td>53</td>\n",
              "      <td>234721</td>\n",
              "      <td>7</td>\n",
              "      <td>0</td>\n",
              "      <td>0</td>\n",
              "      <td>40</td>\n",
              "      <td>&lt;=50K</td>\n",
              "      <td>False</td>\n",
              "      <td>False</td>\n",
              "      <td>False</td>\n",
              "      <td>...</td>\n",
              "      <td>False</td>\n",
              "      <td>False</td>\n",
              "      <td>False</td>\n",
              "      <td>False</td>\n",
              "      <td>False</td>\n",
              "      <td>False</td>\n",
              "      <td>False</td>\n",
              "      <td>True</td>\n",
              "      <td>False</td>\n",
              "      <td>False</td>\n",
              "    </tr>\n",
              "    <tr>\n",
              "      <th>4</th>\n",
              "      <td>28</td>\n",
              "      <td>338409</td>\n",
              "      <td>13</td>\n",
              "      <td>0</td>\n",
              "      <td>0</td>\n",
              "      <td>40</td>\n",
              "      <td>&lt;=50K</td>\n",
              "      <td>False</td>\n",
              "      <td>False</td>\n",
              "      <td>False</td>\n",
              "      <td>...</td>\n",
              "      <td>False</td>\n",
              "      <td>False</td>\n",
              "      <td>False</td>\n",
              "      <td>False</td>\n",
              "      <td>False</td>\n",
              "      <td>False</td>\n",
              "      <td>False</td>\n",
              "      <td>False</td>\n",
              "      <td>False</td>\n",
              "      <td>False</td>\n",
              "    </tr>\n",
              "    <tr>\n",
              "      <th>...</th>\n",
              "      <td>...</td>\n",
              "      <td>...</td>\n",
              "      <td>...</td>\n",
              "      <td>...</td>\n",
              "      <td>...</td>\n",
              "      <td>...</td>\n",
              "      <td>...</td>\n",
              "      <td>...</td>\n",
              "      <td>...</td>\n",
              "      <td>...</td>\n",
              "      <td>...</td>\n",
              "      <td>...</td>\n",
              "      <td>...</td>\n",
              "      <td>...</td>\n",
              "      <td>...</td>\n",
              "      <td>...</td>\n",
              "      <td>...</td>\n",
              "      <td>...</td>\n",
              "      <td>...</td>\n",
              "      <td>...</td>\n",
              "      <td>...</td>\n",
              "    </tr>\n",
              "    <tr>\n",
              "      <th>32556</th>\n",
              "      <td>27</td>\n",
              "      <td>257302</td>\n",
              "      <td>12</td>\n",
              "      <td>0</td>\n",
              "      <td>0</td>\n",
              "      <td>38</td>\n",
              "      <td>&lt;=50K</td>\n",
              "      <td>False</td>\n",
              "      <td>False</td>\n",
              "      <td>False</td>\n",
              "      <td>...</td>\n",
              "      <td>False</td>\n",
              "      <td>False</td>\n",
              "      <td>False</td>\n",
              "      <td>False</td>\n",
              "      <td>False</td>\n",
              "      <td>False</td>\n",
              "      <td>False</td>\n",
              "      <td>True</td>\n",
              "      <td>False</td>\n",
              "      <td>False</td>\n",
              "    </tr>\n",
              "    <tr>\n",
              "      <th>32557</th>\n",
              "      <td>40</td>\n",
              "      <td>154374</td>\n",
              "      <td>9</td>\n",
              "      <td>0</td>\n",
              "      <td>0</td>\n",
              "      <td>40</td>\n",
              "      <td>&gt;50K</td>\n",
              "      <td>False</td>\n",
              "      <td>False</td>\n",
              "      <td>False</td>\n",
              "      <td>...</td>\n",
              "      <td>False</td>\n",
              "      <td>False</td>\n",
              "      <td>False</td>\n",
              "      <td>False</td>\n",
              "      <td>False</td>\n",
              "      <td>False</td>\n",
              "      <td>False</td>\n",
              "      <td>True</td>\n",
              "      <td>False</td>\n",
              "      <td>False</td>\n",
              "    </tr>\n",
              "    <tr>\n",
              "      <th>32558</th>\n",
              "      <td>58</td>\n",
              "      <td>151910</td>\n",
              "      <td>9</td>\n",
              "      <td>0</td>\n",
              "      <td>0</td>\n",
              "      <td>40</td>\n",
              "      <td>&lt;=50K</td>\n",
              "      <td>False</td>\n",
              "      <td>False</td>\n",
              "      <td>False</td>\n",
              "      <td>...</td>\n",
              "      <td>False</td>\n",
              "      <td>False</td>\n",
              "      <td>False</td>\n",
              "      <td>False</td>\n",
              "      <td>False</td>\n",
              "      <td>False</td>\n",
              "      <td>False</td>\n",
              "      <td>True</td>\n",
              "      <td>False</td>\n",
              "      <td>False</td>\n",
              "    </tr>\n",
              "    <tr>\n",
              "      <th>32559</th>\n",
              "      <td>22</td>\n",
              "      <td>201490</td>\n",
              "      <td>9</td>\n",
              "      <td>0</td>\n",
              "      <td>0</td>\n",
              "      <td>20</td>\n",
              "      <td>&lt;=50K</td>\n",
              "      <td>False</td>\n",
              "      <td>False</td>\n",
              "      <td>False</td>\n",
              "      <td>...</td>\n",
              "      <td>False</td>\n",
              "      <td>False</td>\n",
              "      <td>False</td>\n",
              "      <td>False</td>\n",
              "      <td>False</td>\n",
              "      <td>False</td>\n",
              "      <td>False</td>\n",
              "      <td>True</td>\n",
              "      <td>False</td>\n",
              "      <td>False</td>\n",
              "    </tr>\n",
              "    <tr>\n",
              "      <th>32560</th>\n",
              "      <td>52</td>\n",
              "      <td>287927</td>\n",
              "      <td>9</td>\n",
              "      <td>15024</td>\n",
              "      <td>0</td>\n",
              "      <td>40</td>\n",
              "      <td>&gt;50K</td>\n",
              "      <td>False</td>\n",
              "      <td>False</td>\n",
              "      <td>False</td>\n",
              "      <td>...</td>\n",
              "      <td>False</td>\n",
              "      <td>False</td>\n",
              "      <td>False</td>\n",
              "      <td>False</td>\n",
              "      <td>False</td>\n",
              "      <td>False</td>\n",
              "      <td>False</td>\n",
              "      <td>True</td>\n",
              "      <td>False</td>\n",
              "      <td>False</td>\n",
              "    </tr>\n",
              "  </tbody>\n",
              "</table>\n",
              "<p>32561 rows × 109 columns</p>\n",
              "</div>"
            ]
          },
          "metadata": {},
          "execution_count": 8
        }
      ],
      "source": [
        "# Шаг 1: Предобработка данных\n",
        "# Кодирование категориальных признаков\n",
        "categorical_features = [\"Workclass\", \"Education\", \"Martial_Status\", \"Occupation\", \"Relationship\", \"Race\", \"Sex\", \"Country\"]\n",
        "data_encoded = pd.get_dummies(data, columns=categorical_features)\n",
        "data_encoded"
      ]
    },
    {
      "cell_type": "code",
      "execution_count": 9,
      "metadata": {
        "id": "Om-jKndjwYJW"
      },
      "outputs": [],
      "source": [
        "# Шаг 2: Завести признак для Голландии (предположим, он называется 'From_Holland')\n",
        "data_encoded[\"From_Holland\"] = 0"
      ]
    },
    {
      "cell_type": "code",
      "execution_count": 10,
      "metadata": {
        "colab": {
          "base_uri": "https://localhost:8080/"
        },
        "id": "Szcc5emCwdG0",
        "outputId": "5324ddd2-7924-48ed-e055-0d3d6b971247"
      },
      "outputs": [
        {
          "output_type": "stream",
          "name": "stdout",
          "text": [
            "Logistic Regression Accuracy Test: 0.7996315062183326\n",
            "Logistic Regression Accuracy Train: 0.7971437346437347\n"
          ]
        }
      ],
      "source": [
        "# Шаг 3: Обучение Logistic Regression (бейзлайн)\n",
        "X = data_encoded.drop(\"Target\", axis=1)\n",
        "y = data_encoded[\"Target\"]\n",
        "X_train, X_test, y_train, y_test = train_test_split(X, y, test_size=0.2, random_state=42)\n",
        "logistic_model = LogisticRegression()\n",
        "logistic_model.fit(X_train, y_train)\n",
        "logistic_accuracy = logistic_model.score(X_test, y_test)\n",
        "logistic_accuracy2 = logistic_model.score(X_train, y_train)\n",
        "print(\"Logistic Regression Accuracy Test:\", logistic_accuracy)\n",
        "print(\"Logistic Regression Accuracy Train:\", logistic_accuracy2)"
      ]
    },
    {
      "cell_type": "code",
      "execution_count": 11,
      "metadata": {
        "colab": {
          "base_uri": "https://localhost:8080/"
        },
        "id": "w9rzaKyVw67Y",
        "outputId": "b58cb6f2-5ff8-4a64-a5bd-dfc2a166365b"
      },
      "outputs": [
        {
          "output_type": "stream",
          "name": "stdout",
          "text": [
            "k-NN Accuracy: 0.7785966528481498\n",
            "SVC Accuracy: 0.7956394902502687\n",
            "Naive Bayes Accuracy: 0.7991708889912482\n",
            "Decision Tree Accuracy: 0.8166743436204514\n",
            "Random Forest Accuracy: 0.8593582066635959\n"
          ]
        }
      ],
      "source": [
        "# Шаг 4: Обучение других моделей\n",
        "# k-NN\n",
        "knn_model = KNeighborsClassifier()\n",
        "knn_model.fit(X_train, y_train)\n",
        "knn_accuracy = knn_model.score(X_test, y_test)\n",
        "print(\"k-NN Accuracy:\", knn_accuracy)\n",
        "\n",
        "# SVC\n",
        "svc_model = SVC()\n",
        "svc_model.fit(X_train, y_train)\n",
        "svc_accuracy = svc_model.score(X_test, y_test)\n",
        "print(\"SVC Accuracy:\", svc_accuracy)\n",
        "\n",
        "# Naive Bayes\n",
        "nb_model = GaussianNB()\n",
        "nb_model.fit(X_train, y_train)\n",
        "nb_accuracy = nb_model.score(X_test, y_test)\n",
        "print(\"Naive Bayes Accuracy:\", nb_accuracy)\n",
        "\n",
        "# Decision Tree\n",
        "dt_model = DecisionTreeClassifier()\n",
        "dt_model.fit(X_train, y_train)\n",
        "dt_accuracy = dt_model.score(X_test, y_test)\n",
        "print(\"Decision Tree Accuracy:\", dt_accuracy)\n",
        "\n",
        "# Random Forest\n",
        "rf_model = RandomForestClassifier()\n",
        "rf_model.fit(X_train, y_train)\n",
        "rf_accuracy = rf_model.score(X_test, y_test)\n",
        "print(\"Random Forest Accuracy:\", rf_accuracy)"
      ]
    },
    {
      "cell_type": "code",
      "execution_count": 13,
      "metadata": {
        "colab": {
          "base_uri": "https://localhost:8080/"
        },
        "id": "zb7ZwwOxxxe0",
        "outputId": "60496bc0-e17c-4f78-e0eb-1f6b85c2c68e"
      },
      "outputs": [
        {
          "output_type": "stream",
          "name": "stdout",
          "text": [
            "Best SVC Accuracy: 0.75894365115922\n"
          ]
        }
      ],
      "source": [
        "# Шаг 5: Обучение SVC с подбором параметров\n",
        "grid_search_svc = HalvingGridSearchCV(SVC(), param_grid={ 'gamma': [0.001, 0.01, 0.1, 1, 10, 100],'C': [0.001, 0.01, 0.1, 1, 10, 100]}, n_jobs=-1)\n",
        "grid_search_svc.fit(X_train, y_train)\n",
        "best_svc_model = grid_search_svc.best_estimator_\n",
        "best_svc_accuracy = best_svc_model.score(X_test, y_test)\n",
        "print(\"Best SVC Accuracy:\", best_svc_accuracy)"
      ]
    },
    {
      "cell_type": "code",
      "execution_count": 14,
      "metadata": {
        "colab": {
          "base_uri": "https://localhost:8080/"
        },
        "id": "FMqjaNQA7pAp",
        "outputId": "c837fd4b-7fd4-46f2-d42d-a9954be4b246"
      },
      "outputs": [
        {
          "output_type": "stream",
          "name": "stdout",
          "text": [
            "Best Decision Tree Accuracy: 0.8615077537233226\n"
          ]
        }
      ],
      "source": [
        "# Шаг 6: Обучение DecisionTreeClassifier с подбором параметров\n",
        "tree_params = {'max_depth': range(2, 11)}\n",
        "grid_search_tree = GridSearchCV(DecisionTreeClassifier(), tree_params, cv=5)\n",
        "grid_search_tree.fit(X_train, y_train)\n",
        "best_tree_model = grid_search_tree.best_estimator_\n",
        "best_tree_accuracy = best_tree_model.score(X_test, y_test)\n",
        "print(\"Best Decision Tree Accuracy:\", best_tree_accuracy)"
      ]
    },
    {
      "cell_type": "code",
      "execution_count": 15,
      "metadata": {
        "colab": {
          "base_uri": "https://localhost:8080/"
        },
        "id": "rc8Rfqby7wD_",
        "outputId": "6381c1ab-08c3-4e4b-f282-3e4e138ed959"
      },
      "outputs": [
        {
          "output_type": "stream",
          "name": "stdout",
          "text": [
            "Best Random Forest Accuracy: 0.8693382465837556\n"
          ]
        }
      ],
      "source": [
        "# Шаг 7: Обучение RandomForestClassifier с подбором параметров\n",
        "forest_params = {'max_depth': range(10, 21), 'max_features': range(5, 105, 10)}\n",
        "grid_search_forest = GridSearchCV(RandomForestClassifier(), forest_params, cv=5)\n",
        "grid_search_forest.fit(X_train, y_train)\n",
        "best_forest_model = grid_search_forest.best_estimator_\n",
        "best_forest_accuracy = best_forest_model.score(X_test, y_test)\n",
        "print(\"Best Random Forest Accuracy:\", best_forest_accuracy)"
      ]
    },
    {
      "cell_type": "code",
      "execution_count": 16,
      "metadata": {
        "id": "HMmL7s1A74YR",
        "colab": {
          "base_uri": "https://localhost:8080/"
        },
        "outputId": "0d787c9d-eaab-47bd-f65a-6d2c584d8e6a"
      },
      "outputs": [
        {
          "output_type": "stream",
          "name": "stdout",
          "text": [
            "Baseline Logistic Regression Accuracy: 0.7996315062183326\n",
            "k-NN Accuracy: 0.7785966528481498\n",
            "SVC Accuracy: 0.7956394902502687\n",
            "Naive Bayes Accuracy: 0.7991708889912482\n",
            "Decision Tree Accuracy: 0.8166743436204514\n",
            "Random Forest Accuracy: 0.8593582066635959\n",
            "Best SVC Accuracy: 0.75894365115922\n",
            "Best Decision Tree Accuracy: 0.8615077537233226\n",
            "Best Random Forest Accuracy: 0.8693382465837556\n"
          ]
        }
      ],
      "source": [
        "# Шаг 8: Кросс-валидация и GridSearchCV уже выполнены в предыдущих шагах\n",
        "\n",
        "# Шаг 9: Сравнение с бейзлайном\n",
        "print(\"Baseline Logistic Regression Accuracy:\", logistic_accuracy)\n",
        "print(\"k-NN Accuracy:\", knn_accuracy)\n",
        "print(\"SVC Accuracy:\", svc_accuracy)\n",
        "print(\"Naive Bayes Accuracy:\", nb_accuracy)\n",
        "print(\"Decision Tree Accuracy:\", dt_accuracy)\n",
        "print(\"Random Forest Accuracy:\", rf_accuracy)\n",
        "print(\"Best SVC Accuracy:\", best_svc_accuracy)\n",
        "print(\"Best Decision Tree Accuracy:\", best_tree_accuracy)\n",
        "print(\"Best Random Forest Accuracy:\", best_forest_accuracy)"
      ]
    },
    {
      "cell_type": "code",
      "execution_count": 17,
      "metadata": {
        "id": "NKjR8Yem9Xim",
        "colab": {
          "base_uri": "https://localhost:8080/"
        },
        "outputId": "5421f575-d347-4ba6-b840-f086d41a42fe"
      },
      "outputs": [
        {
          "output_type": "stream",
          "name": "stdout",
          "text": [
            "Confusion Matrix:\n",
            " [[4698  244]\n",
            " [ 607  964]]\n"
          ]
        }
      ],
      "source": [
        "# Шаг 10: Confusion Matrix\n",
        "y_pred = best_forest_model.predict(X_test)\n",
        "confusion = confusion_matrix(y_test, y_pred)\n",
        "print(\"Confusion Matrix:\\n\", confusion)"
      ]
    },
    {
      "cell_type": "markdown",
      "source": [
        "# ДЗ №2 <a name='dz2'></a>"
      ],
      "metadata": {
        "id": "0yPZowM0AL7F"
      }
    },
    {
      "cell_type": "markdown",
      "source": [
        "1. Разбить датасет digits на обучающую и тестовую выборку, 85% и 15% соответственно.\n",
        "2. Найти лучший классификатор (и лучшие параметры) для этого набора данных.\n",
        "3. Вывести матрицу несоответствия"
      ],
      "metadata": {
        "id": "0wh7bNkWANeU"
      }
    },
    {
      "cell_type": "code",
      "source": [
        "from sklearn.model_selection import train_test_split\n",
        "from sklearn.datasets import load_digits\n",
        "\n",
        "# Загружаем датасет\n",
        "digits = load_digits()\n",
        "\n",
        "# Разделяем данные на обучающую и тестовую выборки\n",
        "X_train, X_test, y_train, y_test = train_test_split(digits.data, digits.target, test_size=0.15, random_state=42)\n"
      ],
      "metadata": {
        "id": "5ZezRFQDPicw"
      },
      "execution_count": 5,
      "outputs": []
    },
    {
      "cell_type": "code",
      "source": [
        "from sklearn.svm import SVC\n",
        "from sklearn.model_selection import GridSearchCV\n",
        "\n",
        "# Определяем параметры для поиска\n",
        "param_grid = {\n",
        "    'C': [0.1, 1, 10],\n",
        "    'gamma': [0.001, 0.01, 0.1, 1],\n",
        "    'kernel': ['linear', 'rbf']\n",
        "}\n",
        "\n",
        "# Создаем классификатор\n",
        "svm = SVC()\n",
        "\n",
        "# Инициируем Grid Search\n",
        "grid_search = GridSearchCV(svm, param_grid, cv=5)\n",
        "grid_search.fit(X_train, y_train)\n",
        "\n",
        "# Назодим лучшие параметры\n",
        "best_params = grid_search.best_params_\n",
        "best_classifier = grid_search.best_estimator_\n"
      ],
      "metadata": {
        "id": "QA7C0kAxPnJU"
      },
      "execution_count": 6,
      "outputs": []
    },
    {
      "cell_type": "code",
      "source": [
        "from sklearn.metrics import confusion_matrix\n",
        "\n",
        "y_pred = best_classifier.predict(X_test)\n",
        "confusion = confusion_matrix(y_test, y_pred)\n",
        "\n",
        "print(\"Матрица несоответствия:\")\n",
        "print(confusion)\n"
      ],
      "metadata": {
        "colab": {
          "base_uri": "https://localhost:8080/"
        },
        "id": "rMmjhHrxPqEA",
        "outputId": "7c4e96b7-ce23-4b76-c645-c969f354ae11"
      },
      "execution_count": 7,
      "outputs": [
        {
          "output_type": "stream",
          "name": "stdout",
          "text": [
            "Матрица несоответствия:\n",
            "[[23  0  0  0  0  0  0  0  0  0]\n",
            " [ 0 18  0  0  0  0  0  0  0  0]\n",
            " [ 0  0 26  0  0  0  0  0  0  0]\n",
            " [ 0  0  0 23  0  1  0  0  0  0]\n",
            " [ 0  0  0  0 37  0  0  0  0  0]\n",
            " [ 0  0  0  0  0 33  0  0  0  0]\n",
            " [ 0  0  0  0  0  0 30  0  0  0]\n",
            " [ 0  0  0  0  0  0  0 25  0  1]\n",
            " [ 0  0  0  0  0  0  0  0 19  0]\n",
            " [ 0  0  0  0  0  0  0  1  0 33]]\n"
          ]
        }
      ]
    }
  ],
  "metadata": {
    "colab": {
      "provenance": [],
      "authorship_tag": "ABX9TyNc0tPf8nHooqzVx2BqsnCE"
    },
    "kernelspec": {
      "display_name": "Python 3",
      "name": "python3"
    },
    "language_info": {
      "name": "python"
    }
  },
  "nbformat": 4,
  "nbformat_minor": 0
}