{
  "nbformat": 4,
  "nbformat_minor": 0,
  "metadata": {
    "colab": {
      "provenance": [],
      "authorship_tag": "ABX9TyOgTkX0mzipqu7imnLFB+Mm"
    },
    "kernelspec": {
      "name": "python3",
      "display_name": "Python 3"
    },
    "language_info": {
      "name": "python"
    }
  },
  "cells": [
    {
      "cell_type": "markdown",
      "metadata": {
        "id": "Sx9naxEGycrZ"
      },
      "source": [
        "# Предсказание цен машин с Юлы\n",
        "\n",
        "\n"
      ]
    },
    {
      "cell_type": "code",
      "source": [
        "from tensorflow.keras.models import Sequential\n",
        "from tensorflow.keras.layers import Dense, Activation, Dropout, BatchNormalization\n",
        "from tensorflow.keras import utils\n",
        "from tensorflow.keras.preprocessing import image\n",
        "from sklearn.model_selection import train_test_split\n",
        "from tensorflow.keras.optimizers import Adam, Adadelta # Алгоритмы оптимизации, для настройки скорости обучения\n",
        "import numpy as np # Библиотека работы с массивами\n",
        "import matplotlib.pyplot as plt\n",
        "import pandas as pd # Библиотека pandas\n",
        "from sklearn.preprocessing import LabelEncoder, StandardScaler # Функции для нормализации данных\n",
        "from sklearn import preprocessing\n",
        "from tensorflow import keras\n",
        "from tensorflow.keras.metrics import MeanAbsoluteError, MeanSquaredError, R2Score"
      ],
      "metadata": {
        "id": "3xhudE6UYLpA"
      },
      "execution_count": 53,
      "outputs": []
    },
    {
      "cell_type": "code",
      "execution_count": 25,
      "metadata": {
        "colab": {
          "base_uri": "https://localhost:8080/",
          "height": 206
        },
        "id": "5v7Vz9VWynjF",
        "outputId": "639c9d95-0e67-417d-e36a-ad6518223361"
      },
      "outputs": [
        {
          "output_type": "execute_result",
          "data": {
            "text/plain": [
              "        mark                               model   price  year  mileage  \\\n",
              "0        kia                              cerato  996000  2018    28000   \n",
              "1     daewoo  nexia 1 поколение [2-й рестайлинг]  140200  2012    60500   \n",
              "2     suzuki      jimny 3 поколение [рестайлинг]  750000  2011    29000   \n",
              "3        bmw              x1 18 e84 [рестайлинг]  970000  2014    49500   \n",
              "4  chevrolet                 lacetti 1 поколение  205000  2007   151445   \n",
              "\n",
              "          body       kpp    fuel  volume  power  \n",
              "0        седан   автомат  бензин     2.0  150.0  \n",
              "1        седан  механика  бензин     1.5   80.0  \n",
              "2  внедорожник   автомат  бензин     1.3   85.0  \n",
              "3    кроссовер   автомат  бензин     2.0  150.0  \n",
              "4        седан  механика  бензин     1.4   95.0  "
            ],
            "text/html": [
              "\n",
              "  <div id=\"df-4a6e16fe-6f37-4077-b16a-382640e9f171\" class=\"colab-df-container\">\n",
              "    <div>\n",
              "<style scoped>\n",
              "    .dataframe tbody tr th:only-of-type {\n",
              "        vertical-align: middle;\n",
              "    }\n",
              "\n",
              "    .dataframe tbody tr th {\n",
              "        vertical-align: top;\n",
              "    }\n",
              "\n",
              "    .dataframe thead th {\n",
              "        text-align: right;\n",
              "    }\n",
              "</style>\n",
              "<table border=\"1\" class=\"dataframe\">\n",
              "  <thead>\n",
              "    <tr style=\"text-align: right;\">\n",
              "      <th></th>\n",
              "      <th>mark</th>\n",
              "      <th>model</th>\n",
              "      <th>price</th>\n",
              "      <th>year</th>\n",
              "      <th>mileage</th>\n",
              "      <th>body</th>\n",
              "      <th>kpp</th>\n",
              "      <th>fuel</th>\n",
              "      <th>volume</th>\n",
              "      <th>power</th>\n",
              "    </tr>\n",
              "  </thead>\n",
              "  <tbody>\n",
              "    <tr>\n",
              "      <th>0</th>\n",
              "      <td>kia</td>\n",
              "      <td>cerato</td>\n",
              "      <td>996000</td>\n",
              "      <td>2018</td>\n",
              "      <td>28000</td>\n",
              "      <td>седан</td>\n",
              "      <td>автомат</td>\n",
              "      <td>бензин</td>\n",
              "      <td>2.0</td>\n",
              "      <td>150.0</td>\n",
              "    </tr>\n",
              "    <tr>\n",
              "      <th>1</th>\n",
              "      <td>daewoo</td>\n",
              "      <td>nexia 1 поколение [2-й рестайлинг]</td>\n",
              "      <td>140200</td>\n",
              "      <td>2012</td>\n",
              "      <td>60500</td>\n",
              "      <td>седан</td>\n",
              "      <td>механика</td>\n",
              "      <td>бензин</td>\n",
              "      <td>1.5</td>\n",
              "      <td>80.0</td>\n",
              "    </tr>\n",
              "    <tr>\n",
              "      <th>2</th>\n",
              "      <td>suzuki</td>\n",
              "      <td>jimny 3 поколение [рестайлинг]</td>\n",
              "      <td>750000</td>\n",
              "      <td>2011</td>\n",
              "      <td>29000</td>\n",
              "      <td>внедорожник</td>\n",
              "      <td>автомат</td>\n",
              "      <td>бензин</td>\n",
              "      <td>1.3</td>\n",
              "      <td>85.0</td>\n",
              "    </tr>\n",
              "    <tr>\n",
              "      <th>3</th>\n",
              "      <td>bmw</td>\n",
              "      <td>x1 18 e84 [рестайлинг]</td>\n",
              "      <td>970000</td>\n",
              "      <td>2014</td>\n",
              "      <td>49500</td>\n",
              "      <td>кроссовер</td>\n",
              "      <td>автомат</td>\n",
              "      <td>бензин</td>\n",
              "      <td>2.0</td>\n",
              "      <td>150.0</td>\n",
              "    </tr>\n",
              "    <tr>\n",
              "      <th>4</th>\n",
              "      <td>chevrolet</td>\n",
              "      <td>lacetti 1 поколение</td>\n",
              "      <td>205000</td>\n",
              "      <td>2007</td>\n",
              "      <td>151445</td>\n",
              "      <td>седан</td>\n",
              "      <td>механика</td>\n",
              "      <td>бензин</td>\n",
              "      <td>1.4</td>\n",
              "      <td>95.0</td>\n",
              "    </tr>\n",
              "  </tbody>\n",
              "</table>\n",
              "</div>\n",
              "    <div class=\"colab-df-buttons\">\n",
              "\n",
              "  <div class=\"colab-df-container\">\n",
              "    <button class=\"colab-df-convert\" onclick=\"convertToInteractive('df-4a6e16fe-6f37-4077-b16a-382640e9f171')\"\n",
              "            title=\"Convert this dataframe to an interactive table.\"\n",
              "            style=\"display:none;\">\n",
              "\n",
              "  <svg xmlns=\"http://www.w3.org/2000/svg\" height=\"24px\" viewBox=\"0 -960 960 960\">\n",
              "    <path d=\"M120-120v-720h720v720H120Zm60-500h600v-160H180v160Zm220 220h160v-160H400v160Zm0 220h160v-160H400v160ZM180-400h160v-160H180v160Zm440 0h160v-160H620v160ZM180-180h160v-160H180v160Zm440 0h160v-160H620v160Z\"/>\n",
              "  </svg>\n",
              "    </button>\n",
              "\n",
              "  <style>\n",
              "    .colab-df-container {\n",
              "      display:flex;\n",
              "      gap: 12px;\n",
              "    }\n",
              "\n",
              "    .colab-df-convert {\n",
              "      background-color: #E8F0FE;\n",
              "      border: none;\n",
              "      border-radius: 50%;\n",
              "      cursor: pointer;\n",
              "      display: none;\n",
              "      fill: #1967D2;\n",
              "      height: 32px;\n",
              "      padding: 0 0 0 0;\n",
              "      width: 32px;\n",
              "    }\n",
              "\n",
              "    .colab-df-convert:hover {\n",
              "      background-color: #E2EBFA;\n",
              "      box-shadow: 0px 1px 2px rgba(60, 64, 67, 0.3), 0px 1px 3px 1px rgba(60, 64, 67, 0.15);\n",
              "      fill: #174EA6;\n",
              "    }\n",
              "\n",
              "    .colab-df-buttons div {\n",
              "      margin-bottom: 4px;\n",
              "    }\n",
              "\n",
              "    [theme=dark] .colab-df-convert {\n",
              "      background-color: #3B4455;\n",
              "      fill: #D2E3FC;\n",
              "    }\n",
              "\n",
              "    [theme=dark] .colab-df-convert:hover {\n",
              "      background-color: #434B5C;\n",
              "      box-shadow: 0px 1px 3px 1px rgba(0, 0, 0, 0.15);\n",
              "      filter: drop-shadow(0px 1px 2px rgba(0, 0, 0, 0.3));\n",
              "      fill: #FFFFFF;\n",
              "    }\n",
              "  </style>\n",
              "\n",
              "    <script>\n",
              "      const buttonEl =\n",
              "        document.querySelector('#df-4a6e16fe-6f37-4077-b16a-382640e9f171 button.colab-df-convert');\n",
              "      buttonEl.style.display =\n",
              "        google.colab.kernel.accessAllowed ? 'block' : 'none';\n",
              "\n",
              "      async function convertToInteractive(key) {\n",
              "        const element = document.querySelector('#df-4a6e16fe-6f37-4077-b16a-382640e9f171');\n",
              "        const dataTable =\n",
              "          await google.colab.kernel.invokeFunction('convertToInteractive',\n",
              "                                                    [key], {});\n",
              "        if (!dataTable) return;\n",
              "\n",
              "        const docLinkHtml = 'Like what you see? Visit the ' +\n",
              "          '<a target=\"_blank\" href=https://colab.research.google.com/notebooks/data_table.ipynb>data table notebook</a>'\n",
              "          + ' to learn more about interactive tables.';\n",
              "        element.innerHTML = '';\n",
              "        dataTable['output_type'] = 'display_data';\n",
              "        await google.colab.output.renderOutput(dataTable, element);\n",
              "        const docLink = document.createElement('div');\n",
              "        docLink.innerHTML = docLinkHtml;\n",
              "        element.appendChild(docLink);\n",
              "      }\n",
              "    </script>\n",
              "  </div>\n",
              "\n",
              "\n",
              "<div id=\"df-deeb7ad4-faab-4f17-8413-ad07fa8593ca\">\n",
              "  <button class=\"colab-df-quickchart\" onclick=\"quickchart('df-deeb7ad4-faab-4f17-8413-ad07fa8593ca')\"\n",
              "            title=\"Suggest charts\"\n",
              "            style=\"display:none;\">\n",
              "\n",
              "<svg xmlns=\"http://www.w3.org/2000/svg\" height=\"24px\"viewBox=\"0 0 24 24\"\n",
              "     width=\"24px\">\n",
              "    <g>\n",
              "        <path d=\"M19 3H5c-1.1 0-2 .9-2 2v14c0 1.1.9 2 2 2h14c1.1 0 2-.9 2-2V5c0-1.1-.9-2-2-2zM9 17H7v-7h2v7zm4 0h-2V7h2v10zm4 0h-2v-4h2v4z\"/>\n",
              "    </g>\n",
              "</svg>\n",
              "  </button>\n",
              "\n",
              "<style>\n",
              "  .colab-df-quickchart {\n",
              "      --bg-color: #E8F0FE;\n",
              "      --fill-color: #1967D2;\n",
              "      --hover-bg-color: #E2EBFA;\n",
              "      --hover-fill-color: #174EA6;\n",
              "      --disabled-fill-color: #AAA;\n",
              "      --disabled-bg-color: #DDD;\n",
              "  }\n",
              "\n",
              "  [theme=dark] .colab-df-quickchart {\n",
              "      --bg-color: #3B4455;\n",
              "      --fill-color: #D2E3FC;\n",
              "      --hover-bg-color: #434B5C;\n",
              "      --hover-fill-color: #FFFFFF;\n",
              "      --disabled-bg-color: #3B4455;\n",
              "      --disabled-fill-color: #666;\n",
              "  }\n",
              "\n",
              "  .colab-df-quickchart {\n",
              "    background-color: var(--bg-color);\n",
              "    border: none;\n",
              "    border-radius: 50%;\n",
              "    cursor: pointer;\n",
              "    display: none;\n",
              "    fill: var(--fill-color);\n",
              "    height: 32px;\n",
              "    padding: 0;\n",
              "    width: 32px;\n",
              "  }\n",
              "\n",
              "  .colab-df-quickchart:hover {\n",
              "    background-color: var(--hover-bg-color);\n",
              "    box-shadow: 0 1px 2px rgba(60, 64, 67, 0.3), 0 1px 3px 1px rgba(60, 64, 67, 0.15);\n",
              "    fill: var(--button-hover-fill-color);\n",
              "  }\n",
              "\n",
              "  .colab-df-quickchart-complete:disabled,\n",
              "  .colab-df-quickchart-complete:disabled:hover {\n",
              "    background-color: var(--disabled-bg-color);\n",
              "    fill: var(--disabled-fill-color);\n",
              "    box-shadow: none;\n",
              "  }\n",
              "\n",
              "  .colab-df-spinner {\n",
              "    border: 2px solid var(--fill-color);\n",
              "    border-color: transparent;\n",
              "    border-bottom-color: var(--fill-color);\n",
              "    animation:\n",
              "      spin 1s steps(1) infinite;\n",
              "  }\n",
              "\n",
              "  @keyframes spin {\n",
              "    0% {\n",
              "      border-color: transparent;\n",
              "      border-bottom-color: var(--fill-color);\n",
              "      border-left-color: var(--fill-color);\n",
              "    }\n",
              "    20% {\n",
              "      border-color: transparent;\n",
              "      border-left-color: var(--fill-color);\n",
              "      border-top-color: var(--fill-color);\n",
              "    }\n",
              "    30% {\n",
              "      border-color: transparent;\n",
              "      border-left-color: var(--fill-color);\n",
              "      border-top-color: var(--fill-color);\n",
              "      border-right-color: var(--fill-color);\n",
              "    }\n",
              "    40% {\n",
              "      border-color: transparent;\n",
              "      border-right-color: var(--fill-color);\n",
              "      border-top-color: var(--fill-color);\n",
              "    }\n",
              "    60% {\n",
              "      border-color: transparent;\n",
              "      border-right-color: var(--fill-color);\n",
              "    }\n",
              "    80% {\n",
              "      border-color: transparent;\n",
              "      border-right-color: var(--fill-color);\n",
              "      border-bottom-color: var(--fill-color);\n",
              "    }\n",
              "    90% {\n",
              "      border-color: transparent;\n",
              "      border-bottom-color: var(--fill-color);\n",
              "    }\n",
              "  }\n",
              "</style>\n",
              "\n",
              "  <script>\n",
              "    async function quickchart(key) {\n",
              "      const quickchartButtonEl =\n",
              "        document.querySelector('#' + key + ' button');\n",
              "      quickchartButtonEl.disabled = true;  // To prevent multiple clicks.\n",
              "      quickchartButtonEl.classList.add('colab-df-spinner');\n",
              "      try {\n",
              "        const charts = await google.colab.kernel.invokeFunction(\n",
              "            'suggestCharts', [key], {});\n",
              "      } catch (error) {\n",
              "        console.error('Error during call to suggestCharts:', error);\n",
              "      }\n",
              "      quickchartButtonEl.classList.remove('colab-df-spinner');\n",
              "      quickchartButtonEl.classList.add('colab-df-quickchart-complete');\n",
              "    }\n",
              "    (() => {\n",
              "      let quickchartButtonEl =\n",
              "        document.querySelector('#df-deeb7ad4-faab-4f17-8413-ad07fa8593ca button');\n",
              "      quickchartButtonEl.style.display =\n",
              "        google.colab.kernel.accessAllowed ? 'block' : 'none';\n",
              "    })();\n",
              "  </script>\n",
              "</div>\n",
              "    </div>\n",
              "  </div>\n"
            ]
          },
          "metadata": {},
          "execution_count": 25
        }
      ],
      "source": [
        "# Считываем csv с помощью pandas\n",
        "cars = pd.read_csv('/content/cars_new.csv', sep=',')\n",
        "cars[:5] # Выводим первые 5 машин"
      ]
    },
    {
      "cell_type": "code",
      "execution_count": 26,
      "metadata": {
        "colab": {
          "base_uri": "https://localhost:8080/"
        },
        "id": "-2014jPoywVZ",
        "outputId": "b20063bd-50c2-4d3e-f49e-2ddfe0d0d09b"
      },
      "outputs": [
        {
          "output_type": "stream",
          "name": "stdout",
          "text": [
            "(70119, 10)\n"
          ]
        }
      ],
      "source": [
        "print(cars.values.shape)"
      ]
    },
    {
      "cell_type": "code",
      "execution_count": 27,
      "metadata": {
        "id": "w_3Pk5XeyxsT"
      },
      "outputs": [],
      "source": [
        "# Создаём словарь поле - его индекс\n",
        "def create_dict(s):\n",
        "  ret = {}                          # Создаём пустой словарь\n",
        "  for _id, name in enumerate(s):    # Проходим по всем парам - id и название\n",
        "    ret.update({name: _id})         # Добавляем в словарь\n",
        "  return ret\n",
        "\n",
        "# Функция преобразования в one hot encoding\n",
        "def to_ohe(value, d):\n",
        "  arr = [0] * len(d)\n",
        "  arr[d[value]] = 1\n",
        "  return arr"
      ]
    },
    {
      "cell_type": "code",
      "execution_count": 28,
      "metadata": {
        "id": "bUyCBzyYyz8s",
        "colab": {
          "base_uri": "https://localhost:8080/"
        },
        "outputId": "bfc47871-b77b-45e3-dcec-7d505aac216b"
      },
      "outputs": [
        {
          "output_type": "stream",
          "name": "stderr",
          "text": [
            "<ipython-input-28-006031011196>:9: DeprecationWarning: `np.float` is a deprecated alias for the builtin `float`. To silence this warning, use `float` by itself. Doing this will not modify any behavior and is safe. If you specifically wanted the numpy scalar type, use `np.float64` here.\n",
            "Deprecated in NumPy 1.20; for more details and guidance: https://numpy.org/devdocs/release/1.20.0-notes.html#deprecations\n",
            "  prices = np.array(cars['price'], dtype=np.float)\n"
          ]
        }
      ],
      "source": [
        "# Создаём словари по всем текстовым колонкам\n",
        "marks_dict = create_dict(set(cars['mark']))\n",
        "models_dict = create_dict(set(cars['model']))\n",
        "bodies_dict = create_dict(set(cars['body']))\n",
        "kpps_dict = create_dict(set(cars['kpp']))\n",
        "fuels_dict = create_dict(set(cars['fuel']))\n",
        "\n",
        "# Запоминаем цены\n",
        "prices = np.array(cars['price'], dtype=np.float)\n",
        "\n",
        "# Запоминаем числовые параметры\n",
        "# и нормируем\n",
        "years = preprocessing.scale(cars['year'])\n",
        "mileages = preprocessing.scale(cars['mileage'])\n",
        "volumes = preprocessing.scale(cars['volume'])\n",
        "powers = preprocessing.scale(cars['power'])"
      ]
    },
    {
      "cell_type": "code",
      "execution_count": 29,
      "metadata": {
        "colab": {
          "base_uri": "https://localhost:8080/"
        },
        "id": "E_W73oeey1TF",
        "outputId": "a6a3a024-457f-4841-f0e2-a6f43771ee93"
      },
      "outputs": [
        {
          "output_type": "stream",
          "name": "stdout",
          "text": [
            "{'гибрид': 0, 'дизель': 1, 'газ': 2, 'бензин': 3, 'электро': 4}\n"
          ]
        }
      ],
      "source": [
        "print(fuels_dict)"
      ]
    },
    {
      "cell_type": "code",
      "execution_count": 30,
      "metadata": {
        "colab": {
          "base_uri": "https://localhost:8080/"
        },
        "id": "ZnAwYOCmLbQc",
        "outputId": "85a7e985-6831-44a1-c234-eaeec9faf39e"
      },
      "outputs": [
        {
          "output_type": "execute_result",
          "data": {
            "text/plain": [
              "1.2879530757014324e-16"
            ]
          },
          "metadata": {},
          "execution_count": 30
        }
      ],
      "source": [
        "volumes.mean()"
      ]
    },
    {
      "cell_type": "code",
      "execution_count": 31,
      "metadata": {
        "colab": {
          "base_uri": "https://localhost:8080/"
        },
        "id": "_PJLhc-HLdDI",
        "outputId": "a4e6a83e-df8a-4440-955b-a8b85b4242cd"
      },
      "outputs": [
        {
          "output_type": "execute_result",
          "data": {
            "text/plain": [
              "1.0"
            ]
          },
          "metadata": {},
          "execution_count": 31
        }
      ],
      "source": [
        "volumes.std()"
      ]
    },
    {
      "cell_type": "code",
      "execution_count": 32,
      "metadata": {
        "colab": {
          "base_uri": "https://localhost:8080/"
        },
        "id": "jHEPEcKfy4MV",
        "outputId": "d0af9622-81f8-49eb-d421-db453e449ab2"
      },
      "outputs": [
        {
          "output_type": "stream",
          "name": "stdout",
          "text": [
            "[ 0.22905575 -0.95630346 -0.87163494 ...  0.22905575 -0.75309902\n",
            "  2.34576862]\n"
          ]
        }
      ],
      "source": [
        "print(powers)"
      ]
    },
    {
      "cell_type": "code",
      "execution_count": 33,
      "metadata": {
        "id": "fq_m4WUny4k3",
        "colab": {
          "base_uri": "https://localhost:8080/"
        },
        "outputId": "ba4ec8c0-33ee-4829-b7fd-cfdda67f3b31"
      },
      "outputs": [
        {
          "output_type": "stream",
          "name": "stderr",
          "text": [
            "<ipython-input-33-56e6415ba6d7>:27: DeprecationWarning: `np.float` is a deprecated alias for the builtin `float`. To silence this warning, use `float` by itself. Doing this will not modify any behavior and is safe. If you specifically wanted the numpy scalar type, use `np.float64` here.\n",
            "Deprecated in NumPy 1.20; for more details and guidance: https://numpy.org/devdocs/release/1.20.0-notes.html#deprecations\n",
            "  x_train = np.array(x_train, dtype=np.float)\n",
            "<ipython-input-33-56e6415ba6d7>:28: DeprecationWarning: `np.float` is a deprecated alias for the builtin `float`. To silence this warning, use `float` by itself. Doing this will not modify any behavior and is safe. If you specifically wanted the numpy scalar type, use `np.float64` here.\n",
            "Deprecated in NumPy 1.20; for more details and guidance: https://numpy.org/devdocs/release/1.20.0-notes.html#deprecations\n",
            "  y_train = np.array(y_train, dtype=np.float)\n"
          ]
        }
      ],
      "source": [
        "# Создаём пустую обучающую выборку\n",
        "x_train = []\n",
        "y_train = []\n",
        "\n",
        "# Проходам по всем машинам\n",
        "for _id, car in enumerate(np.array(cars)):\n",
        "  # В y_train добавляем цену\n",
        "  y_train.append(prices[_id])\n",
        "\n",
        "  # В x_train объединяем все параметры\n",
        "  # Категорийные параметры добавляем в виде ohe\n",
        "  # Числовые параметры добавляем напрямую\n",
        "  x_tr = to_ohe(car[0], marks_dict) + \\\n",
        "        to_ohe(car[1], models_dict) + \\\n",
        "        to_ohe(car[5], bodies_dict) + \\\n",
        "        to_ohe(car[6], kpps_dict) + \\\n",
        "        to_ohe(car[7], fuels_dict) + \\\n",
        "        [years[_id]] + \\\n",
        "        [mileages[_id]] + \\\n",
        "        [volumes[_id]] + \\\n",
        "        [powers[_id]]\n",
        "\n",
        "  # Добавляем текущую строку в общий x_train\n",
        "  x_train.append(x_tr)\n",
        "\n",
        "# Превращаем лист в numpy.array\n",
        "x_train = np.array(x_train, dtype=np.float)\n",
        "y_train = np.array(y_train, dtype=np.float)"
      ]
    },
    {
      "cell_type": "code",
      "execution_count": 34,
      "metadata": {
        "colab": {
          "base_uri": "https://localhost:8080/"
        },
        "id": "S2IuqIWPy-nr",
        "outputId": "08d9de1a-5ed7-46a4-9530-9a8a3cee35c2"
      },
      "outputs": [
        {
          "output_type": "stream",
          "name": "stdout",
          "text": [
            "(70119, 3208)\n",
            "(70119,)\n"
          ]
        }
      ],
      "source": [
        "# Выводим размеры выборок\n",
        "print(x_train.shape)\n",
        "print(y_train.shape)"
      ]
    },
    {
      "cell_type": "code",
      "execution_count": 35,
      "metadata": {
        "colab": {
          "base_uri": "https://localhost:8080/"
        },
        "id": "tyNIVawgzDX6",
        "outputId": "7d7275a3-d0b0-4006-86ee-6ae90b7062f3"
      },
      "outputs": [
        {
          "output_type": "stream",
          "name": "stdout",
          "text": [
            "[0. 0. 0. 0. 0. 1. 0. 0. 0. 0. 0. 0. 0. 0. 0. 0. 0. 0. 0. 0.]\n",
            "[ 0.          0.          0.          0.          0.          0.\n",
            "  0.          0.          0.          1.          0.          0.\n",
            "  0.          0.          1.          0.          1.5200145  -1.40018212\n",
            "  0.12288486  0.22905575]\n"
          ]
        }
      ],
      "source": [
        "# Выводим один x_train\n",
        "print(x_train[0,:20])\n",
        "print(x_train[0,-20:])"
      ]
    },
    {
      "cell_type": "code",
      "execution_count": 36,
      "metadata": {
        "colab": {
          "base_uri": "https://localhost:8080/"
        },
        "id": "E06CfFFtzE4b",
        "outputId": "0c87ec9c-4945-4abf-9703-574fd36ae1a8"
      },
      "outputs": [
        {
          "output_type": "stream",
          "name": "stdout",
          "text": [
            "[ 996000.  140200.  750000.  970000.  205000.  985000.  589000.  500000.\n",
            " 1320000.  270000.]\n"
          ]
        }
      ],
      "source": [
        "# Выводим y_train\n",
        "print(y_train[:10])"
      ]
    },
    {
      "cell_type": "code",
      "execution_count": 37,
      "metadata": {
        "colab": {
          "base_uri": "https://localhost:8080/"
        },
        "id": "60HjttMmeB6C",
        "outputId": "50a285e0-239a-4080-a597-32364cd96347"
      },
      "outputs": [
        {
          "output_type": "execute_result",
          "data": {
            "text/plain": [
              "(70119,)"
            ]
          },
          "metadata": {},
          "execution_count": 37
        }
      ],
      "source": [
        "y_train.shape"
      ]
    },
    {
      "cell_type": "code",
      "execution_count": 38,
      "metadata": {
        "colab": {
          "base_uri": "https://localhost:8080/"
        },
        "id": "Fyt6sUeueKfA",
        "outputId": "844e4a51-6cd5-4055-bf8d-e30b3a2b6009"
      },
      "outputs": [
        {
          "output_type": "execute_result",
          "data": {
            "text/plain": [
              "(70119, 1)"
            ]
          },
          "metadata": {},
          "execution_count": 38
        }
      ],
      "source": [
        "y_train.reshape(-1,1).shape"
      ]
    },
    {
      "cell_type": "code",
      "execution_count": 39,
      "metadata": {
        "id": "tetSCI-BzITK"
      },
      "outputs": [],
      "source": [
        "# Нормализуем y_train\n",
        "y_scaler = StandardScaler()\n",
        "y_train_scaled = y_scaler.fit_transform(y_train.reshape(-1,1)).flatten()\n",
        "\n",
        "# y_train.reshape(-1,1) добавляет одну размерность\n",
        "# Это нужно потому, что y_scaler.fit_transform\n",
        "# Требует двумерны вектор, массив примеров, которые надо нормализовать\n",
        "# Он не умеет работать с одним примеров\n",
        "# Поэтому мы делаем массив из одного примера\n",
        "# На выходе он так же выдаёт массив примеров\n",
        "# Но нам нужен только первый пример\n",
        "# Поэтому мы делаем flatten() - уменьшение размерности"
      ]
    },
    {
      "cell_type": "code",
      "execution_count": 40,
      "metadata": {
        "colab": {
          "base_uri": "https://localhost:8080/"
        },
        "id": "n3hq9mYkOEGK",
        "outputId": "9f0db5db-c4b8-42eb-fcf1-9faff4ff65f0"
      },
      "outputs": [
        {
          "output_type": "execute_result",
          "data": {
            "text/plain": [
              "(70119,)"
            ]
          },
          "metadata": {},
          "execution_count": 40
        }
      ],
      "source": [
        "y_train_scaled.shape"
      ]
    },
    {
      "cell_type": "code",
      "execution_count": 41,
      "metadata": {
        "colab": {
          "base_uri": "https://localhost:8080/"
        },
        "id": "v2k03NYbzI6q",
        "outputId": "5cd44cc9-26ff-4eaf-fa08-c6b00b67c4c2"
      },
      "outputs": [
        {
          "output_type": "stream",
          "name": "stdout",
          "text": [
            "[ 996000.  140200.  750000.  970000.  205000.  985000.  589000.  500000.\n",
            " 1320000.  270000.]\n",
            "[ 0.75082432 -0.62135434  0.3563911   0.70913625 -0.51745486  0.73318706\n",
            "  0.09824578 -0.04445567  1.27032173 -0.4132347 ]\n"
          ]
        }
      ],
      "source": [
        "# Выводим базовый и нормированный y_train\n",
        "print(y_train[:10])\n",
        "print(y_train_scaled[:10])"
      ]
    },
    {
      "cell_type": "code",
      "source": [
        "X_train, X_test, y_train, y_test = train_test_split(x_train, y_train, test_size=0.2, random_state=42)"
      ],
      "metadata": {
        "id": "882AEWrJRDuJ"
      },
      "execution_count": 44,
      "outputs": []
    },
    {
      "cell_type": "code",
      "execution_count": 48,
      "metadata": {
        "id": "nRhXUb0TCbUp"
      },
      "outputs": [],
      "source": [
        "model_ula = keras.Sequential()"
      ]
    },
    {
      "cell_type": "code",
      "source": [
        "model_ula.add(Dense(3208, activation='relu'))\n",
        "model_ula.add(Dropout(0.3))"
      ],
      "metadata": {
        "id": "xbD1rNnmTKEh"
      },
      "execution_count": 49,
      "outputs": []
    },
    {
      "cell_type": "code",
      "source": [
        "model_ula.add(Dense(30, activation='relu'))\n",
        "model_ula.add(Dropout(0.3))\n"
      ],
      "metadata": {
        "id": "gYl3fJw8TLNx"
      },
      "execution_count": 50,
      "outputs": []
    },
    {
      "cell_type": "code",
      "source": [
        "model_ula.add(Dense(1, activation='linear'))"
      ],
      "metadata": {
        "id": "MxJUFn8QTMI0"
      },
      "execution_count": 51,
      "outputs": []
    },
    {
      "cell_type": "code",
      "source": [
        "model_ula.compile(optimizer='adam', loss='mse', metrics=[R2Score()])\n"
      ],
      "metadata": {
        "id": "oVngKfbQTNar"
      },
      "execution_count": 56,
      "outputs": []
    },
    {
      "cell_type": "code",
      "source": [
        "model_ula.fit(X_train, y_train, epochs=100, verbose=1, batch_size=50, validation_split=0.2)"
      ],
      "metadata": {
        "colab": {
          "base_uri": "https://localhost:8080/"
        },
        "id": "Hrs7JaXsTQ_h",
        "outputId": "d0421b8f-08fe-4d1c-cb08-859a155ec6f7"
      },
      "execution_count": 58,
      "outputs": [
        {
          "output_type": "stream",
          "name": "stdout",
          "text": [
            "Epoch 1/100\n",
            "898/898 [==============================] - 100s 111ms/step - loss: 664555880448.0000 - r2_score: -0.7268 - val_loss: 671517376512.0000 - val_r2_score: -0.6901\n",
            "Epoch 2/100\n",
            "898/898 [==============================] - 96s 107ms/step - loss: 639566544896.0000 - r2_score: -0.6619 - val_loss: 560367337472.0000 - val_r2_score: -0.4104\n",
            "Epoch 3/100\n",
            "898/898 [==============================] - 96s 107ms/step - loss: 437375467520.0000 - r2_score: -0.1365 - val_loss: 315265286144.0000 - val_r2_score: 0.2065\n",
            "Epoch 4/100\n",
            "898/898 [==============================] - 98s 109ms/step - loss: 335571124224.0000 - r2_score: 0.1280 - val_loss: 247909564416.0000 - val_r2_score: 0.3760\n",
            "Epoch 5/100\n",
            "898/898 [==============================] - 97s 108ms/step - loss: 312110907392.0000 - r2_score: 0.1890 - val_loss: 225934491648.0000 - val_r2_score: 0.4313\n",
            "Epoch 6/100\n",
            "898/898 [==============================] - 106s 118ms/step - loss: 306534973440.0000 - r2_score: 0.2035 - val_loss: 214331146240.0000 - val_r2_score: 0.4606\n",
            "Epoch 7/100\n",
            "898/898 [==============================] - 100s 111ms/step - loss: 300309577728.0000 - r2_score: 0.2197 - val_loss: 207614148608.0000 - val_r2_score: 0.4775\n",
            "Epoch 8/100\n",
            "898/898 [==============================] - 101s 112ms/step - loss: 286677041152.0000 - r2_score: 0.2551 - val_loss: 198921388032.0000 - val_r2_score: 0.4993\n",
            "Epoch 9/100\n",
            "898/898 [==============================] - 100s 111ms/step - loss: 291842490368.0000 - r2_score: 0.2417 - val_loss: 193503936512.0000 - val_r2_score: 0.5130\n",
            "Epoch 10/100\n",
            "898/898 [==============================] - 101s 112ms/step - loss: 287984025600.0000 - r2_score: 0.2517 - val_loss: 190174576640.0000 - val_r2_score: 0.5214\n",
            "Epoch 11/100\n",
            "898/898 [==============================] - 100s 111ms/step - loss: 271841296384.0000 - r2_score: 0.2936 - val_loss: 181816836096.0000 - val_r2_score: 0.5424\n",
            "Epoch 12/100\n",
            "898/898 [==============================] - 110s 123ms/step - loss: 281587286016.0000 - r2_score: 0.2683 - val_loss: 179764690944.0000 - val_r2_score: 0.5476\n",
            "Epoch 13/100\n",
            "898/898 [==============================] - 106s 118ms/step - loss: 271950004224.0000 - r2_score: 0.2934 - val_loss: 174389755904.0000 - val_r2_score: 0.5611\n",
            "Epoch 14/100\n",
            "898/898 [==============================] - 109s 121ms/step - loss: 269571702784.0000 - r2_score: 0.2995 - val_loss: 174070202368.0000 - val_r2_score: 0.5619\n",
            "Epoch 15/100\n",
            "898/898 [==============================] - 106s 118ms/step - loss: 274798608384.0000 - r2_score: 0.2860 - val_loss: 171411685376.0000 - val_r2_score: 0.5686\n",
            "Epoch 16/100\n",
            "898/898 [==============================] - 107s 119ms/step - loss: 260676567040.0000 - r2_score: 0.3227 - val_loss: 166431129600.0000 - val_r2_score: 0.5811\n",
            "Epoch 17/100\n",
            "898/898 [==============================] - 107s 119ms/step - loss: 258608676864.0000 - r2_score: 0.3280 - val_loss: 165833900032.0000 - val_r2_score: 0.5826\n",
            "Epoch 18/100\n",
            "898/898 [==============================] - 109s 121ms/step - loss: 259655565312.0000 - r2_score: 0.3253 - val_loss: 162917728256.0000 - val_r2_score: 0.5900\n",
            "Epoch 19/100\n",
            "898/898 [==============================] - 109s 121ms/step - loss: 262931300352.0000 - r2_score: 0.3168 - val_loss: 162964733952.0000 - val_r2_score: 0.5898\n",
            "Epoch 20/100\n",
            "898/898 [==============================] - 107s 119ms/step - loss: 265827516416.0000 - r2_score: 0.3093 - val_loss: 163681009664.0000 - val_r2_score: 0.5880\n",
            "Epoch 21/100\n",
            "898/898 [==============================] - 108s 121ms/step - loss: 251353251840.0000 - r2_score: 0.3469 - val_loss: 158543839232.0000 - val_r2_score: 0.6010\n",
            "Epoch 22/100\n",
            "898/898 [==============================] - 105s 117ms/step - loss: 254952046592.0000 - r2_score: 0.3375 - val_loss: 155809955840.0000 - val_r2_score: 0.6078\n",
            "Epoch 23/100\n",
            "898/898 [==============================] - 107s 119ms/step - loss: 256516358144.0000 - r2_score: 0.3335 - val_loss: 157516431360.0000 - val_r2_score: 0.6035\n",
            "Epoch 24/100\n",
            "898/898 [==============================] - 108s 121ms/step - loss: 244836990976.0000 - r2_score: 0.3638 - val_loss: 154676477952.0000 - val_r2_score: 0.6107\n",
            "Epoch 25/100\n",
            "898/898 [==============================] - 108s 120ms/step - loss: 252836741120.0000 - r2_score: 0.3430 - val_loss: 153733316608.0000 - val_r2_score: 0.6131\n",
            "Epoch 26/100\n",
            "898/898 [==============================] - 108s 120ms/step - loss: 258087813120.0000 - r2_score: 0.3294 - val_loss: 153654263808.0000 - val_r2_score: 0.6133\n",
            "Epoch 27/100\n",
            "898/898 [==============================] - 106s 118ms/step - loss: 252902440960.0000 - r2_score: 0.3429 - val_loss: 149482127360.0000 - val_r2_score: 0.6238\n",
            "Epoch 28/100\n",
            "898/898 [==============================] - 108s 120ms/step - loss: 254438473728.0000 - r2_score: 0.3389 - val_loss: 150005366784.0000 - val_r2_score: 0.6225\n",
            "Epoch 29/100\n",
            "898/898 [==============================] - 108s 121ms/step - loss: 249456787456.0000 - r2_score: 0.3518 - val_loss: 148493565952.0000 - val_r2_score: 0.6263\n",
            "Epoch 30/100\n",
            "898/898 [==============================] - 108s 120ms/step - loss: 252830285824.0000 - r2_score: 0.3430 - val_loss: 147748356096.0000 - val_r2_score: 0.6281\n",
            "Epoch 31/100\n",
            "898/898 [==============================] - 106s 118ms/step - loss: 246375563264.0000 - r2_score: 0.3598 - val_loss: 148404273152.0000 - val_r2_score: 0.6265\n",
            "Epoch 32/100\n",
            "898/898 [==============================] - 108s 120ms/step - loss: 245876916224.0000 - r2_score: 0.3611 - val_loss: 146947719168.0000 - val_r2_score: 0.6301\n",
            "Epoch 33/100\n",
            "898/898 [==============================] - 108s 120ms/step - loss: 245990260736.0000 - r2_score: 0.3608 - val_loss: 146006425600.0000 - val_r2_score: 0.6325\n",
            "Epoch 34/100\n",
            "898/898 [==============================] - 108s 120ms/step - loss: 240481026048.0000 - r2_score: 0.3751 - val_loss: 144001548288.0000 - val_r2_score: 0.6376\n",
            "Epoch 35/100\n",
            "898/898 [==============================] - 107s 120ms/step - loss: 235314610176.0000 - r2_score: 0.3886 - val_loss: 145158045696.0000 - val_r2_score: 0.6347\n",
            "Epoch 36/100\n",
            "898/898 [==============================] - 108s 120ms/step - loss: 258184740864.0000 - r2_score: 0.3291 - val_loss: 145748590592.0000 - val_r2_score: 0.6332\n",
            "Epoch 37/100\n",
            "898/898 [==============================] - 110s 123ms/step - loss: 249591136256.0000 - r2_score: 0.3515 - val_loss: 143061549056.0000 - val_r2_score: 0.6399\n",
            "Epoch 38/100\n",
            "898/898 [==============================] - 108s 120ms/step - loss: 246570663936.0000 - r2_score: 0.3593 - val_loss: 139883069440.0000 - val_r2_score: 0.6479\n",
            "Epoch 39/100\n",
            "898/898 [==============================] - 107s 119ms/step - loss: 236779962368.0000 - r2_score: 0.3847 - val_loss: 139018764288.0000 - val_r2_score: 0.6501\n",
            "Epoch 40/100\n",
            "898/898 [==============================] - 106s 118ms/step - loss: 253853319168.0000 - r2_score: 0.3404 - val_loss: 144422387712.0000 - val_r2_score: 0.6365\n",
            "Epoch 41/100\n",
            "898/898 [==============================] - 108s 120ms/step - loss: 244923203584.0000 - r2_score: 0.3636 - val_loss: 140385140736.0000 - val_r2_score: 0.6467\n",
            "Epoch 42/100\n",
            "898/898 [==============================] - 106s 119ms/step - loss: 234462691328.0000 - r2_score: 0.3908 - val_loss: 139055644672.0000 - val_r2_score: 0.6500\n",
            "Epoch 43/100\n",
            "898/898 [==============================] - 106s 118ms/step - loss: 230155059200.0000 - r2_score: 0.4020 - val_loss: 138233413632.0000 - val_r2_score: 0.6521\n",
            "Epoch 44/100\n",
            "898/898 [==============================] - 107s 119ms/step - loss: 236208373760.0000 - r2_score: 0.3862 - val_loss: 138550132736.0000 - val_r2_score: 0.6513\n",
            "Epoch 45/100\n",
            "898/898 [==============================] - 107s 120ms/step - loss: 236468142080.0000 - r2_score: 0.3856 - val_loss: 140986368000.0000 - val_r2_score: 0.6452\n",
            "Epoch 46/100\n",
            "898/898 [==============================] - 106s 118ms/step - loss: 246400581632.0000 - r2_score: 0.3597 - val_loss: 137707520000.0000 - val_r2_score: 0.6534\n",
            "Epoch 47/100\n",
            "898/898 [==============================] - 106s 118ms/step - loss: 251590230016.0000 - r2_score: 0.3463 - val_loss: 140131581952.0000 - val_r2_score: 0.6473\n",
            "Epoch 48/100\n",
            "898/898 [==============================] - 105s 117ms/step - loss: 233008119808.0000 - r2_score: 0.3945 - val_loss: 139561140224.0000 - val_r2_score: 0.6487\n",
            "Epoch 49/100\n",
            "898/898 [==============================] - 105s 117ms/step - loss: 228366123008.0000 - r2_score: 0.4066 - val_loss: 137888759808.0000 - val_r2_score: 0.6529\n",
            "Epoch 50/100\n",
            "898/898 [==============================] - 107s 120ms/step - loss: 243166724096.0000 - r2_score: 0.3682 - val_loss: 134337757184.0000 - val_r2_score: 0.6619\n",
            "Epoch 51/100\n",
            "898/898 [==============================] - 106s 118ms/step - loss: 246904700928.0000 - r2_score: 0.3584 - val_loss: 137436635136.0000 - val_r2_score: 0.6541\n",
            "Epoch 52/100\n",
            "898/898 [==============================] - 107s 119ms/step - loss: 225981448192.0000 - r2_score: 0.4128 - val_loss: 134044581888.0000 - val_r2_score: 0.6626\n",
            "Epoch 53/100\n",
            "898/898 [==============================] - 105s 117ms/step - loss: 253904502784.0000 - r2_score: 0.3403 - val_loss: 136591376384.0000 - val_r2_score: 0.6562\n",
            "Epoch 54/100\n",
            "898/898 [==============================] - 108s 120ms/step - loss: 235118379008.0000 - r2_score: 0.3891 - val_loss: 134178340864.0000 - val_r2_score: 0.6623\n",
            "Epoch 55/100\n",
            "898/898 [==============================] - 105s 117ms/step - loss: 226382102528.0000 - r2_score: 0.4118 - val_loss: 134946766848.0000 - val_r2_score: 0.6604\n",
            "Epoch 56/100\n",
            "898/898 [==============================] - 107s 119ms/step - loss: 237391642624.0000 - r2_score: 0.3832 - val_loss: 133069971456.0000 - val_r2_score: 0.6651\n",
            "Epoch 57/100\n",
            "898/898 [==============================] - 106s 118ms/step - loss: 232753659904.0000 - r2_score: 0.3952 - val_loss: 132344856576.0000 - val_r2_score: 0.6669\n",
            "Epoch 58/100\n",
            "898/898 [==============================] - 109s 121ms/step - loss: 220888875008.0000 - r2_score: 0.4260 - val_loss: 131836035072.0000 - val_r2_score: 0.6682\n",
            "Epoch 59/100\n",
            "898/898 [==============================] - 105s 117ms/step - loss: 239512190976.0000 - r2_score: 0.3776 - val_loss: 132198326272.0000 - val_r2_score: 0.6673\n",
            "Epoch 60/100\n",
            "898/898 [==============================] - 106s 118ms/step - loss: 238641709056.0000 - r2_score: 0.3799 - val_loss: 132577509376.0000 - val_r2_score: 0.6663\n",
            "Epoch 61/100\n",
            "898/898 [==============================] - 105s 117ms/step - loss: 241818877952.0000 - r2_score: 0.3717 - val_loss: 133263572992.0000 - val_r2_score: 0.6646\n",
            "Epoch 62/100\n",
            "898/898 [==============================] - 105s 117ms/step - loss: 230693847040.0000 - r2_score: 0.4006 - val_loss: 132396843008.0000 - val_r2_score: 0.6668\n",
            "Epoch 63/100\n",
            "898/898 [==============================] - 106s 118ms/step - loss: 242292703232.0000 - r2_score: 0.3704 - val_loss: 130509340672.0000 - val_r2_score: 0.6715\n",
            "Epoch 64/100\n",
            "898/898 [==============================] - 105s 117ms/step - loss: 233886187520.0000 - r2_score: 0.3923 - val_loss: 130805342208.0000 - val_r2_score: 0.6708\n",
            "Epoch 65/100\n",
            "898/898 [==============================] - 105s 117ms/step - loss: 233885908992.0000 - r2_score: 0.3923 - val_loss: 130057420800.0000 - val_r2_score: 0.6727\n",
            "Epoch 66/100\n",
            "898/898 [==============================] - 105s 117ms/step - loss: 235923570688.0000 - r2_score: 0.3870 - val_loss: 128307003392.0000 - val_r2_score: 0.6771\n",
            "Epoch 67/100\n",
            "898/898 [==============================] - 105s 117ms/step - loss: 233773137920.0000 - r2_score: 0.3926 - val_loss: 130055184384.0000 - val_r2_score: 0.6727\n",
            "Epoch 68/100\n",
            "898/898 [==============================] - 103s 115ms/step - loss: 245394014208.0000 - r2_score: 0.3624 - val_loss: 129615241216.0000 - val_r2_score: 0.6738\n",
            "Epoch 69/100\n",
            "898/898 [==============================] - 106s 118ms/step - loss: 227408756736.0000 - r2_score: 0.4091 - val_loss: 127743287296.0000 - val_r2_score: 0.6785\n",
            "Epoch 70/100\n",
            "898/898 [==============================] - 106s 118ms/step - loss: 230044041216.0000 - r2_score: 0.4023 - val_loss: 127095971840.0000 - val_r2_score: 0.6801\n",
            "Epoch 71/100\n",
            "898/898 [==============================] - 104s 115ms/step - loss: 247484809216.0000 - r2_score: 0.3569 - val_loss: 130741477376.0000 - val_r2_score: 0.6709\n",
            "Epoch 72/100\n",
            "898/898 [==============================] - 105s 117ms/step - loss: 249801818112.0000 - r2_score: 0.3509 - val_loss: 127558533120.0000 - val_r2_score: 0.6789\n",
            "Epoch 73/100\n",
            "898/898 [==============================] - 105s 117ms/step - loss: 228515807232.0000 - r2_score: 0.4062 - val_loss: 128901898240.0000 - val_r2_score: 0.6756\n",
            "Epoch 74/100\n",
            "898/898 [==============================] - 106s 118ms/step - loss: 225957134336.0000 - r2_score: 0.4129 - val_loss: 128096886784.0000 - val_r2_score: 0.6776\n",
            "Epoch 75/100\n",
            "898/898 [==============================] - 107s 119ms/step - loss: 223814615040.0000 - r2_score: 0.4184 - val_loss: 125884350464.0000 - val_r2_score: 0.6832\n",
            "Epoch 76/100\n",
            "898/898 [==============================] - 106s 118ms/step - loss: 228383326208.0000 - r2_score: 0.4066 - val_loss: 127603515392.0000 - val_r2_score: 0.6788\n",
            "Epoch 77/100\n",
            "898/898 [==============================] - 103s 115ms/step - loss: 231504707584.0000 - r2_score: 0.3985 - val_loss: 129302888448.0000 - val_r2_score: 0.6746\n",
            "Epoch 78/100\n",
            "898/898 [==============================] - 104s 116ms/step - loss: 241532043264.0000 - r2_score: 0.3724 - val_loss: 126963351552.0000 - val_r2_score: 0.6804\n",
            "Epoch 79/100\n",
            "898/898 [==============================] - 104s 116ms/step - loss: 227920199680.0000 - r2_score: 0.4078 - val_loss: 128754794496.0000 - val_r2_score: 0.6759\n",
            "Epoch 80/100\n",
            "898/898 [==============================] - 105s 116ms/step - loss: 230734741504.0000 - r2_score: 0.4005 - val_loss: 127424208896.0000 - val_r2_score: 0.6793\n",
            "Epoch 81/100\n",
            "898/898 [==============================] - 105s 117ms/step - loss: 232260009984.0000 - r2_score: 0.3965 - val_loss: 126531059712.0000 - val_r2_score: 0.6815\n",
            "Epoch 82/100\n",
            "898/898 [==============================] - 105s 117ms/step - loss: 231363723264.0000 - r2_score: 0.3988 - val_loss: 126523318272.0000 - val_r2_score: 0.6816\n",
            "Epoch 83/100\n",
            "898/898 [==============================] - 104s 115ms/step - loss: 231156776960.0000 - r2_score: 0.3994 - val_loss: 126637449216.0000 - val_r2_score: 0.6813\n",
            "Epoch 84/100\n",
            "898/898 [==============================] - 103s 115ms/step - loss: 216113627136.0000 - r2_score: 0.4384 - val_loss: 126100660224.0000 - val_r2_score: 0.6826\n",
            "Epoch 85/100\n",
            "898/898 [==============================] - 103s 115ms/step - loss: 220841345024.0000 - r2_score: 0.4262 - val_loss: 124650881024.0000 - val_r2_score: 0.6863\n",
            "Epoch 86/100\n",
            "898/898 [==============================] - 103s 115ms/step - loss: 240967417856.0000 - r2_score: 0.3739 - val_loss: 123975884800.0000 - val_r2_score: 0.6880\n",
            "Epoch 87/100\n",
            "898/898 [==============================] - 104s 116ms/step - loss: 216763514880.0000 - r2_score: 0.4368 - val_loss: 123753447424.0000 - val_r2_score: 0.6885\n",
            "Epoch 88/100\n",
            "898/898 [==============================] - 103s 115ms/step - loss: 221562159104.0000 - r2_score: 0.4243 - val_loss: 122970750976.0000 - val_r2_score: 0.6905\n",
            "Epoch 89/100\n",
            "898/898 [==============================] - 105s 117ms/step - loss: 226861236224.0000 - r2_score: 0.4105 - val_loss: 121078374400.0000 - val_r2_score: 0.6953\n",
            "Epoch 90/100\n",
            "898/898 [==============================] - 105s 117ms/step - loss: 235680710656.0000 - r2_score: 0.3876 - val_loss: 121941565440.0000 - val_r2_score: 0.6931\n",
            "Epoch 91/100\n",
            "898/898 [==============================] - 104s 116ms/step - loss: 227642834944.0000 - r2_score: 0.4085 - val_loss: 122456588288.0000 - val_r2_score: 0.6918\n",
            "Epoch 92/100\n",
            "898/898 [==============================] - 104s 116ms/step - loss: 227114516480.0000 - r2_score: 0.4099 - val_loss: 124227198976.0000 - val_r2_score: 0.6873\n",
            "Epoch 93/100\n",
            "898/898 [==============================] - 104s 116ms/step - loss: 231343095808.0000 - r2_score: 0.3989 - val_loss: 122673864704.0000 - val_r2_score: 0.6912\n",
            "Epoch 94/100\n",
            "898/898 [==============================] - 105s 117ms/step - loss: 220703227904.0000 - r2_score: 0.4265 - val_loss: 122849189888.0000 - val_r2_score: 0.6908\n",
            "Epoch 95/100\n",
            "898/898 [==============================] - 105s 117ms/step - loss: 222778097664.0000 - r2_score: 0.4211 - val_loss: 120242159616.0000 - val_r2_score: 0.6974\n",
            "Epoch 96/100\n",
            "898/898 [==============================] - 105s 117ms/step - loss: 237502595072.0000 - r2_score: 0.3829 - val_loss: 122585563136.0000 - val_r2_score: 0.6915\n",
            "Epoch 97/100\n",
            "898/898 [==============================] - 105s 117ms/step - loss: 222599413760.0000 - r2_score: 0.4216 - val_loss: 122201931776.0000 - val_r2_score: 0.6924\n",
            "Epoch 98/100\n",
            "898/898 [==============================] - 104s 116ms/step - loss: 227004104704.0000 - r2_score: 0.4101 - val_loss: 122712424448.0000 - val_r2_score: 0.6911\n",
            "Epoch 99/100\n",
            "898/898 [==============================] - 106s 118ms/step - loss: 212684406784.0000 - r2_score: 0.4474 - val_loss: 122697400320.0000 - val_r2_score: 0.6912\n",
            "Epoch 100/100\n",
            "898/898 [==============================] - 104s 116ms/step - loss: 234459529216.0000 - r2_score: 0.3908 - val_loss: 120421933056.0000 - val_r2_score: 0.6969\n"
          ]
        },
        {
          "output_type": "execute_result",
          "data": {
            "text/plain": [
              "<keras.src.callbacks.History at 0x7eafdda7f0d0>"
            ]
          },
          "metadata": {},
          "execution_count": 58
        }
      ]
    },
    {
      "cell_type": "code",
      "source": [
        "y_pred = model_ula.predict(X_test)"
      ],
      "metadata": {
        "colab": {
          "base_uri": "https://localhost:8080/"
        },
        "id": "ZCp7RqRAXC6t",
        "outputId": "9b10a96b-ea94-4be7-e4aa-621094d61dc1"
      },
      "execution_count": 59,
      "outputs": [
        {
          "output_type": "stream",
          "name": "stdout",
          "text": [
            "439/439 [==============================] - 5s 12ms/step\n"
          ]
        }
      ]
    }
  ]
}